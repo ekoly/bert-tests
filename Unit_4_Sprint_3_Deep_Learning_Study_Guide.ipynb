{
  "nbformat": 4,
  "nbformat_minor": 0,
  "metadata": {
    "colab": {
      "name": "Unit_4_Sprint_3_Deep_Learning_Study_Guide.ipynb",
      "provenance": [],
      "include_colab_link": true
    },
    "kernelspec": {
      "name": "python3",
      "display_name": "Python 3"
    },
    "accelerator": "GPU"
  },
  "cells": [
    {
      "cell_type": "markdown",
      "metadata": {
        "id": "view-in-github",
        "colab_type": "text"
      },
      "source": [
        "<a href=\"https://colab.research.google.com/github/ekoly/bert-tests/blob/master/Unit_4_Sprint_3_Deep_Learning_Study_Guide.ipynb\" target=\"_parent\"><img src=\"https://colab.research.google.com/assets/colab-badge.svg\" alt=\"Open In Colab\"/></a>"
      ]
    },
    {
      "cell_type": "markdown",
      "metadata": {
        "id": "enodNfbMIxzN",
        "colab_type": "text"
      },
      "source": [
        "This study guide should reinforce and provide practice for all of the concepts you have seen in the past week. There are a mix of written questions and coding exercises, both are equally important to prepare you for the sprint challenge as well as to be able to speak on these topics comfortably in interviews and on the job.\n",
        "\n",
        "If you get stuck or are unsure of something remember the 20 minute rule. If that doesn't help, then research a solution with google and stackoverflow. Only once you have exausted these methods should you turn to your Team Lead - they won't be there on your SC or during an interview. That being said, don't hesitate to ask for help if you truly are stuck.\n",
        "\n",
        "Have fun studying!"
      ]
    },
    {
      "cell_type": "markdown",
      "metadata": {
        "id": "nvKGmIjuneEd",
        "colab_type": "text"
      },
      "source": [
        "# Deep Learning Architectures"
      ]
    },
    {
      "cell_type": "markdown",
      "metadata": {
        "id": "DBeXaA-Dnjdk",
        "colab_type": "text"
      },
      "source": [
        "## Definitions"
      ]
    },
    {
      "cell_type": "markdown",
      "metadata": {
        "id": "tsaLULTSnmVm",
        "colab_type": "text"
      },
      "source": [
        "Define the following terms in your own words, do not simply copy and paste a definition found elsewhere but reword it to be understandable and memorable to you. *Double click the markdown to add your definitions.*"
      ]
    },
    {
      "cell_type": "markdown",
      "metadata": {
        "id": "xnZfttoInsIb",
        "colab_type": "text"
      },
      "source": [
        "**Recurrent Neural Network:** `Your Answer Here`\n",
        "\n",
        "**Long Short Term Memory:** `Your Answer Here`\n",
        "\n",
        "**Convolution:** `Your Answer Here`\n",
        "\n",
        "**Convolutional Neural Network:** `Your Answer Here`\n",
        "\n",
        "**Transfer Learning:** `Your Answer Here`\n",
        "\n",
        "**Autoencoder:** `Your Answer Here`\n",
        "\n",
        "**Generative Adversarial Network:** `Your Answer Here`"
      ]
    },
    {
      "cell_type": "markdown",
      "metadata": {
        "id": "2rtdfOjas4AJ",
        "colab_type": "text"
      },
      "source": [
        "# Questions of Understanding"
      ]
    },
    {
      "cell_type": "markdown",
      "metadata": {
        "id": "1cSX9IQ5s6ku",
        "colab_type": "text"
      },
      "source": [
        "1. What is the \"deep\" in Deep Learning refer to?\n",
        "```\n",
        "Your Answer Here\n",
        "```\n",
        "\n",
        "2. Name at least two types of problems that RNN's/LSTM's are good for. Why are RNN's particularly suited for these problems?\n",
        "```\n",
        "Your Answer Here\n",
        "```\n",
        "\n",
        "3. What weakness in RNN's does an LSTM help to address?\n",
        "```\n",
        "Your Answer Here\n",
        "```\n",
        "\n",
        "4. Name at least two types of problems that CNN's are good for. Why are CNN's particularly suited for these problems?\n",
        "```\n",
        "Your Answer Here\n",
        "```\n",
        "\n",
        "5. What are the advantages of transfer learning?\n",
        "```\n",
        "Your Answer Here\n",
        "```\n",
        "\n",
        "6. Name at least two types of problems that autoencoders are good for. Why are autoencoders particularly suited for these problems?\n",
        "```\n",
        "Your Answer Here\n",
        "```"
      ]
    },
    {
      "cell_type": "markdown",
      "metadata": {
        "id": "dPzD9SMUzqR2",
        "colab_type": "text"
      },
      "source": [
        "## Practice Problems"
      ]
    },
    {
      "cell_type": "markdown",
      "metadata": {
        "id": "uXtmktahzszZ",
        "colab_type": "text"
      },
      "source": [
        "### RNN's"
      ]
    },
    {
      "cell_type": "markdown",
      "metadata": {
        "id": "O6PDp1ad1-Ep",
        "colab_type": "text"
      },
      "source": [
        "Run the code below to create a dummy dataset. Then build a Neural Network in Keras using at least one LSTM layer."
      ]
    },
    {
      "cell_type": "code",
      "metadata": {
        "id": "hfYSiiVOmDWc",
        "colab_type": "code",
        "colab": {}
      },
      "source": [
        "# Starter code for dummy data\n",
        "from numpy import array\n",
        " \n",
        "def split_sequence(sequence, n_steps):\n",
        "\tX, y = list(), list()\n",
        "\tfor i in range(len(sequence)):\n",
        "\t\tend_ix = i + n_steps\n",
        "\t\tif end_ix > len(sequence)-1:\n",
        "\t\t\tbreak\n",
        "\t\tseq_x, seq_y = sequence[i:end_ix], sequence[end_ix]\n",
        "\t\tX.append(seq_x)\n",
        "\t\ty.append(seq_y)\n",
        "\treturn array(X), array(y)\n",
        " \n",
        "raw_seq = [10, 20, 30, 40, 50, 60, 70, 80, 90, 100, 110, 120]\n",
        "X, y = split_sequence(raw_seq, 3)\n",
        "n_features = 1\n",
        "X = X.reshape((X.shape[0], X.shape[1], n_features))"
      ],
      "execution_count": 2,
      "outputs": []
    },
    {
      "cell_type": "code",
      "metadata": {
        "id": "WrNU60-Iixqz",
        "colab_type": "code",
        "colab": {
          "base_uri": "https://localhost:8080/",
          "height": 617
        },
        "outputId": "b4c58b99-5ec5-4303-d50c-c729ad1424f6"
      },
      "source": [
        "X"
      ],
      "execution_count": 6,
      "outputs": [
        {
          "output_type": "execute_result",
          "data": {
            "text/plain": [
              "array([[[ 10],\n",
              "        [ 20],\n",
              "        [ 30]],\n",
              "\n",
              "       [[ 20],\n",
              "        [ 30],\n",
              "        [ 40]],\n",
              "\n",
              "       [[ 30],\n",
              "        [ 40],\n",
              "        [ 50]],\n",
              "\n",
              "       [[ 40],\n",
              "        [ 50],\n",
              "        [ 60]],\n",
              "\n",
              "       [[ 50],\n",
              "        [ 60],\n",
              "        [ 70]],\n",
              "\n",
              "       [[ 60],\n",
              "        [ 70],\n",
              "        [ 80]],\n",
              "\n",
              "       [[ 70],\n",
              "        [ 80],\n",
              "        [ 90]],\n",
              "\n",
              "       [[ 80],\n",
              "        [ 90],\n",
              "        [100]],\n",
              "\n",
              "       [[ 90],\n",
              "        [100],\n",
              "        [110]]])"
            ]
          },
          "metadata": {
            "tags": []
          },
          "execution_count": 6
        }
      ]
    },
    {
      "cell_type": "code",
      "metadata": {
        "id": "MrtmQEyHi2Qu",
        "colab_type": "code",
        "colab": {
          "base_uri": "https://localhost:8080/",
          "height": 34
        },
        "outputId": "c4587d96-1c49-4956-ea84-5ae0ee669a00"
      },
      "source": [
        "y"
      ],
      "execution_count": 7,
      "outputs": [
        {
          "output_type": "execute_result",
          "data": {
            "text/plain": [
              "array([ 40,  50,  60,  70,  80,  90, 100, 110, 120])"
            ]
          },
          "metadata": {
            "tags": []
          },
          "execution_count": 7
        }
      ]
    },
    {
      "cell_type": "code",
      "metadata": {
        "id": "d3B4-0iyzmUf",
        "colab_type": "code",
        "colab": {
          "base_uri": "https://localhost:8080/",
          "height": 1000
        },
        "outputId": "37152845-b2d6-49b0-e7c6-11bdd6914517"
      },
      "source": [
        "from tensorflow.keras.models import Sequential\n",
        "from tensorflow.keras.layers import LSTM, Dense\n",
        "\n",
        "# define model\n",
        "model = Sequential([\n",
        "    LSTM(64, input_shape=X[0].shape, dropout=0.2, recurrent_dropout=0.2),\n",
        "    Dense(16, activation=\"relu\"),\n",
        "    Dense(1, activation=\"relu\"),\n",
        "])\n",
        "\n",
        "model.compile(optimizer=\"adam\", loss=\"mean_squared_error\", metrics=[\"mae\", \"mse\"])\n",
        "\n",
        "# fit model\n",
        "model.fit(X, y, epochs=300)"
      ],
      "execution_count": 15,
      "outputs": [
        {
          "output_type": "stream",
          "text": [
            "WARNING:tensorflow:Layer lstm_10 will not use cuDNN kernel since it doesn't meet the cuDNN kernel criteria. It will use generic GPU kernel as fallback when running on GPU\n",
            "Epoch 1/300\n",
            "1/1 [==============================] - 0s 2ms/step - loss: 6960.8965 - mae: 79.3588 - mse: 6960.8965\n",
            "Epoch 2/300\n",
            "1/1 [==============================] - 0s 1ms/step - loss: 6931.9731 - mae: 79.2029 - mse: 6931.9731\n",
            "Epoch 3/300\n",
            "1/1 [==============================] - 0s 1ms/step - loss: 6933.2168 - mae: 79.1917 - mse: 6933.2168\n",
            "Epoch 4/300\n",
            "1/1 [==============================] - 0s 1ms/step - loss: 6908.8257 - mae: 79.0145 - mse: 6908.8257\n",
            "Epoch 5/300\n",
            "1/1 [==============================] - 0s 1ms/step - loss: 6867.5459 - mae: 78.7877 - mse: 6867.5459\n",
            "Epoch 6/300\n",
            "1/1 [==============================] - 0s 1ms/step - loss: 6877.2324 - mae: 78.8333 - mse: 6877.2324\n",
            "Epoch 7/300\n",
            "1/1 [==============================] - 0s 1ms/step - loss: 6848.1455 - mae: 78.6217 - mse: 6848.1455\n",
            "Epoch 8/300\n",
            "1/1 [==============================] - 0s 1ms/step - loss: 6817.6055 - mae: 78.5052 - mse: 6817.6055\n",
            "Epoch 9/300\n",
            "1/1 [==============================] - 0s 1ms/step - loss: 6795.0645 - mae: 78.3918 - mse: 6795.0645\n",
            "Epoch 10/300\n",
            "1/1 [==============================] - 0s 1ms/step - loss: 6802.7642 - mae: 78.3097 - mse: 6802.7642\n",
            "Epoch 11/300\n",
            "1/1 [==============================] - 0s 1ms/step - loss: 6801.0977 - mae: 78.2868 - mse: 6801.0977\n",
            "Epoch 12/300\n",
            "1/1 [==============================] - 0s 1ms/step - loss: 6793.5239 - mae: 78.2389 - mse: 6793.5239\n",
            "Epoch 13/300\n",
            "1/1 [==============================] - 0s 1ms/step - loss: 6732.4229 - mae: 77.9239 - mse: 6732.4229\n",
            "Epoch 14/300\n",
            "1/1 [==============================] - 0s 1ms/step - loss: 6724.7676 - mae: 77.8486 - mse: 6724.7676\n",
            "Epoch 15/300\n",
            "1/1 [==============================] - 0s 1ms/step - loss: 6704.0620 - mae: 77.6299 - mse: 6704.0620\n",
            "Epoch 16/300\n",
            "1/1 [==============================] - 0s 1ms/step - loss: 6685.2378 - mae: 77.6114 - mse: 6685.2378\n",
            "Epoch 17/300\n",
            "1/1 [==============================] - 0s 1ms/step - loss: 6681.3525 - mae: 77.6376 - mse: 6681.3525\n",
            "Epoch 18/300\n",
            "1/1 [==============================] - 0s 1ms/step - loss: 6709.1919 - mae: 77.8009 - mse: 6709.1919\n",
            "Epoch 19/300\n",
            "1/1 [==============================] - 0s 1ms/step - loss: 6645.0205 - mae: 77.3306 - mse: 6645.0205\n",
            "Epoch 20/300\n",
            "1/1 [==============================] - 0s 1ms/step - loss: 6599.7617 - mae: 77.1206 - mse: 6599.7617\n",
            "Epoch 21/300\n",
            "1/1 [==============================] - 0s 1ms/step - loss: 6650.4448 - mae: 77.3956 - mse: 6650.4448\n",
            "Epoch 22/300\n",
            "1/1 [==============================] - 0s 1ms/step - loss: 6562.9526 - mae: 76.7873 - mse: 6562.9526\n",
            "Epoch 23/300\n",
            "1/1 [==============================] - 0s 1ms/step - loss: 6556.3989 - mae: 76.7436 - mse: 6556.3989\n",
            "Epoch 24/300\n",
            "1/1 [==============================] - 0s 1ms/step - loss: 6570.2402 - mae: 76.8373 - mse: 6570.2402\n",
            "Epoch 25/300\n",
            "1/1 [==============================] - 0s 1ms/step - loss: 6501.1406 - mae: 76.3596 - mse: 6501.1406\n",
            "Epoch 26/300\n",
            "1/1 [==============================] - 0s 1ms/step - loss: 6475.3652 - mae: 76.3739 - mse: 6475.3652\n",
            "Epoch 27/300\n",
            "1/1 [==============================] - 0s 3ms/step - loss: 6528.0439 - mae: 76.7126 - mse: 6528.0439\n",
            "Epoch 28/300\n",
            "1/1 [==============================] - 0s 1ms/step - loss: 6493.0020 - mae: 76.2680 - mse: 6493.0020\n",
            "Epoch 29/300\n",
            "1/1 [==============================] - 0s 1ms/step - loss: 6388.1084 - mae: 75.6529 - mse: 6388.1084\n",
            "Epoch 30/300\n",
            "1/1 [==============================] - 0s 1ms/step - loss: 6412.6782 - mae: 75.8362 - mse: 6412.6782\n",
            "Epoch 31/300\n",
            "1/1 [==============================] - 0s 3ms/step - loss: 6432.1191 - mae: 75.9250 - mse: 6432.1191\n",
            "Epoch 32/300\n",
            "1/1 [==============================] - 0s 1ms/step - loss: 6406.5259 - mae: 75.6630 - mse: 6406.5259\n",
            "Epoch 33/300\n",
            "1/1 [==============================] - 0s 1ms/step - loss: 6373.5552 - mae: 75.4943 - mse: 6373.5552\n",
            "Epoch 34/300\n",
            "1/1 [==============================] - 0s 1ms/step - loss: 6464.1719 - mae: 75.9484 - mse: 6464.1719\n",
            "Epoch 35/300\n",
            "1/1 [==============================] - 0s 1ms/step - loss: 6270.5591 - mae: 74.9415 - mse: 6270.5591\n",
            "Epoch 36/300\n",
            "1/1 [==============================] - 0s 1ms/step - loss: 6289.2651 - mae: 75.0703 - mse: 6289.2651\n",
            "Epoch 37/300\n",
            "1/1 [==============================] - 0s 1ms/step - loss: 6241.5464 - mae: 74.7052 - mse: 6241.5464\n",
            "Epoch 38/300\n",
            "1/1 [==============================] - 0s 1ms/step - loss: 6217.0713 - mae: 74.5564 - mse: 6217.0713\n",
            "Epoch 39/300\n",
            "1/1 [==============================] - 0s 1ms/step - loss: 6320.3027 - mae: 75.0980 - mse: 6320.3027\n",
            "Epoch 40/300\n",
            "1/1 [==============================] - 0s 1ms/step - loss: 6170.5396 - mae: 74.0252 - mse: 6170.5396\n",
            "Epoch 41/300\n",
            "1/1 [==============================] - 0s 1ms/step - loss: 6093.2607 - mae: 73.7354 - mse: 6093.2607\n",
            "Epoch 42/300\n",
            "1/1 [==============================] - 0s 1ms/step - loss: 6227.0986 - mae: 74.4291 - mse: 6227.0986\n",
            "Epoch 43/300\n",
            "1/1 [==============================] - 0s 1ms/step - loss: 6033.2285 - mae: 73.1634 - mse: 6033.2285\n",
            "Epoch 44/300\n",
            "1/1 [==============================] - 0s 1ms/step - loss: 5982.9229 - mae: 72.8579 - mse: 5982.9229\n",
            "Epoch 45/300\n",
            "1/1 [==============================] - 0s 1ms/step - loss: 6003.9175 - mae: 72.9689 - mse: 6003.9175\n",
            "Epoch 46/300\n",
            "1/1 [==============================] - 0s 1ms/step - loss: 5952.7476 - mae: 72.5575 - mse: 5952.7476\n",
            "Epoch 47/300\n",
            "1/1 [==============================] - 0s 1ms/step - loss: 5904.8638 - mae: 72.3109 - mse: 5904.8638\n",
            "Epoch 48/300\n",
            "1/1 [==============================] - 0s 1ms/step - loss: 5957.6040 - mae: 72.7043 - mse: 5957.6040\n",
            "Epoch 49/300\n",
            "1/1 [==============================] - 0s 1ms/step - loss: 5935.5322 - mae: 72.5264 - mse: 5935.5322\n",
            "Epoch 50/300\n",
            "1/1 [==============================] - 0s 1ms/step - loss: 5855.4609 - mae: 72.0190 - mse: 5855.4609\n",
            "Epoch 51/300\n",
            "1/1 [==============================] - 0s 1ms/step - loss: 5906.4272 - mae: 72.2823 - mse: 5906.4272\n",
            "Epoch 52/300\n",
            "1/1 [==============================] - 0s 1ms/step - loss: 5853.8804 - mae: 71.7691 - mse: 5853.8804\n",
            "Epoch 53/300\n",
            "1/1 [==============================] - 0s 1ms/step - loss: 5661.6699 - mae: 70.6170 - mse: 5661.6699\n",
            "Epoch 54/300\n",
            "1/1 [==============================] - 0s 1ms/step - loss: 5626.0962 - mae: 70.3040 - mse: 5626.0962\n",
            "Epoch 55/300\n",
            "1/1 [==============================] - 0s 1ms/step - loss: 5641.8296 - mae: 70.4480 - mse: 5641.8296\n",
            "Epoch 56/300\n",
            "1/1 [==============================] - 0s 1ms/step - loss: 5546.5635 - mae: 69.8327 - mse: 5546.5635\n",
            "Epoch 57/300\n",
            "1/1 [==============================] - 0s 1ms/step - loss: 5781.4531 - mae: 71.0844 - mse: 5781.4531\n",
            "Epoch 58/300\n",
            "1/1 [==============================] - 0s 2ms/step - loss: 5542.9585 - mae: 69.6762 - mse: 5542.9585\n",
            "Epoch 59/300\n",
            "1/1 [==============================] - 0s 1ms/step - loss: 5441.1089 - mae: 68.8548 - mse: 5441.1089\n",
            "Epoch 60/300\n",
            "1/1 [==============================] - 0s 1ms/step - loss: 5383.5137 - mae: 68.4623 - mse: 5383.5137\n",
            "Epoch 61/300\n",
            "1/1 [==============================] - 0s 1ms/step - loss: 5390.6133 - mae: 68.8380 - mse: 5390.6133\n",
            "Epoch 62/300\n",
            "1/1 [==============================] - 0s 1ms/step - loss: 5286.0122 - mae: 67.6932 - mse: 5286.0122\n",
            "Epoch 63/300\n",
            "1/1 [==============================] - 0s 1ms/step - loss: 5343.7539 - mae: 67.9765 - mse: 5343.7539\n",
            "Epoch 64/300\n",
            "1/1 [==============================] - 0s 1ms/step - loss: 5216.5942 - mae: 67.0501 - mse: 5216.5942\n",
            "Epoch 65/300\n",
            "1/1 [==============================] - 0s 1ms/step - loss: 5273.7988 - mae: 68.0982 - mse: 5273.7988\n",
            "Epoch 66/300\n",
            "1/1 [==============================] - 0s 1ms/step - loss: 5224.1895 - mae: 66.8618 - mse: 5224.1895\n",
            "Epoch 67/300\n",
            "1/1 [==============================] - 0s 3ms/step - loss: 5060.8613 - mae: 65.9320 - mse: 5060.8613\n",
            "Epoch 68/300\n",
            "1/1 [==============================] - 0s 2ms/step - loss: 4994.5376 - mae: 65.4179 - mse: 4994.5376\n",
            "Epoch 69/300\n",
            "1/1 [==============================] - 0s 1ms/step - loss: 5101.5449 - mae: 66.3517 - mse: 5101.5449\n",
            "Epoch 70/300\n",
            "1/1 [==============================] - 0s 1ms/step - loss: 4840.7397 - mae: 64.1868 - mse: 4840.7397\n",
            "Epoch 71/300\n",
            "1/1 [==============================] - 0s 1ms/step - loss: 4844.1743 - mae: 64.3586 - mse: 4844.1743\n",
            "Epoch 72/300\n",
            "1/1 [==============================] - 0s 1ms/step - loss: 4702.9170 - mae: 63.2748 - mse: 4702.9170\n",
            "Epoch 73/300\n",
            "1/1 [==============================] - 0s 1ms/step - loss: 4711.7310 - mae: 63.1039 - mse: 4711.7310\n",
            "Epoch 74/300\n",
            "1/1 [==============================] - 0s 1ms/step - loss: 4626.4639 - mae: 62.6085 - mse: 4626.4639\n",
            "Epoch 75/300\n",
            "1/1 [==============================] - 0s 1ms/step - loss: 4565.4473 - mae: 62.2074 - mse: 4565.4473\n",
            "Epoch 76/300\n",
            "1/1 [==============================] - 0s 1ms/step - loss: 4521.5137 - mae: 61.6968 - mse: 4521.5137\n",
            "Epoch 77/300\n",
            "1/1 [==============================] - 0s 1ms/step - loss: 4607.5796 - mae: 62.0649 - mse: 4607.5796\n",
            "Epoch 78/300\n",
            "1/1 [==============================] - 0s 1ms/step - loss: 4328.5591 - mae: 60.3516 - mse: 4328.5591\n",
            "Epoch 79/300\n",
            "1/1 [==============================] - 0s 1ms/step - loss: 4270.5542 - mae: 59.7244 - mse: 4270.5542\n",
            "Epoch 80/300\n",
            "1/1 [==============================] - 0s 1ms/step - loss: 4165.0918 - mae: 58.9206 - mse: 4165.0918\n",
            "Epoch 81/300\n",
            "1/1 [==============================] - 0s 1ms/step - loss: 4205.2993 - mae: 59.0420 - mse: 4205.2993\n",
            "Epoch 82/300\n",
            "1/1 [==============================] - 0s 1ms/step - loss: 4251.9453 - mae: 59.1120 - mse: 4251.9453\n",
            "Epoch 83/300\n",
            "1/1 [==============================] - 0s 1ms/step - loss: 4085.0010 - mae: 58.1377 - mse: 4085.0010\n",
            "Epoch 84/300\n",
            "1/1 [==============================] - 0s 1ms/step - loss: 4071.7769 - mae: 58.0233 - mse: 4071.7769\n",
            "Epoch 85/300\n",
            "1/1 [==============================] - 0s 2ms/step - loss: 3932.1824 - mae: 57.1613 - mse: 3932.1824\n",
            "Epoch 86/300\n",
            "1/1 [==============================] - 0s 1ms/step - loss: 3940.8020 - mae: 56.4026 - mse: 3940.8020\n",
            "Epoch 87/300\n",
            "1/1 [==============================] - 0s 1ms/step - loss: 3701.5994 - mae: 54.8309 - mse: 3701.5994\n",
            "Epoch 88/300\n",
            "1/1 [==============================] - 0s 1ms/step - loss: 3882.5498 - mae: 55.6499 - mse: 3882.5498\n",
            "Epoch 89/300\n",
            "1/1 [==============================] - 0s 1ms/step - loss: 3866.1379 - mae: 56.3513 - mse: 3866.1379\n",
            "Epoch 90/300\n",
            "1/1 [==============================] - 0s 1ms/step - loss: 3533.9077 - mae: 53.3815 - mse: 3533.9077\n",
            "Epoch 91/300\n",
            "1/1 [==============================] - 0s 1ms/step - loss: 3545.1042 - mae: 54.0840 - mse: 3545.1042\n",
            "Epoch 92/300\n",
            "1/1 [==============================] - 0s 1ms/step - loss: 3474.9124 - mae: 52.6043 - mse: 3474.9124\n",
            "Epoch 93/300\n",
            "1/1 [==============================] - 0s 1ms/step - loss: 3389.1672 - mae: 51.9729 - mse: 3389.1672\n",
            "Epoch 94/300\n",
            "1/1 [==============================] - 0s 1ms/step - loss: 3294.2964 - mae: 51.0789 - mse: 3294.2964\n",
            "Epoch 95/300\n",
            "1/1 [==============================] - 0s 1ms/step - loss: 3349.9993 - mae: 51.1675 - mse: 3349.9993\n",
            "Epoch 96/300\n",
            "1/1 [==============================] - 0s 1ms/step - loss: 3144.0884 - mae: 49.6659 - mse: 3144.0884\n",
            "Epoch 97/300\n",
            "1/1 [==============================] - 0s 2ms/step - loss: 3248.0789 - mae: 50.8519 - mse: 3248.0789\n",
            "Epoch 98/300\n",
            "1/1 [==============================] - 0s 1ms/step - loss: 3216.2803 - mae: 49.8719 - mse: 3216.2803\n",
            "Epoch 99/300\n",
            "1/1 [==============================] - 0s 3ms/step - loss: 3006.6646 - mae: 48.2465 - mse: 3006.6646\n",
            "Epoch 100/300\n",
            "1/1 [==============================] - 0s 1ms/step - loss: 2985.2158 - mae: 48.3670 - mse: 2985.2158\n",
            "Epoch 101/300\n",
            "1/1 [==============================] - 0s 2ms/step - loss: 2996.7551 - mae: 47.8980 - mse: 2996.7551\n",
            "Epoch 102/300\n",
            "1/1 [==============================] - 0s 1ms/step - loss: 2857.8340 - mae: 46.8841 - mse: 2857.8340\n",
            "Epoch 103/300\n",
            "1/1 [==============================] - 0s 1ms/step - loss: 2811.3540 - mae: 46.0587 - mse: 2811.3540\n",
            "Epoch 104/300\n",
            "1/1 [==============================] - 0s 1ms/step - loss: 2745.1909 - mae: 45.4065 - mse: 2745.1909\n",
            "Epoch 105/300\n",
            "1/1 [==============================] - 0s 1ms/step - loss: 2758.8706 - mae: 45.4213 - mse: 2758.8706\n",
            "Epoch 106/300\n",
            "1/1 [==============================] - 0s 1ms/step - loss: 2736.3462 - mae: 45.7160 - mse: 2736.3462\n",
            "Epoch 107/300\n",
            "1/1 [==============================] - 0s 1ms/step - loss: 2582.4377 - mae: 43.5838 - mse: 2582.4377\n",
            "Epoch 108/300\n",
            "1/1 [==============================] - 0s 1ms/step - loss: 2572.7891 - mae: 43.6297 - mse: 2572.7891\n",
            "Epoch 109/300\n",
            "1/1 [==============================] - 0s 1ms/step - loss: 2470.6931 - mae: 42.5884 - mse: 2470.6931\n",
            "Epoch 110/300\n",
            "1/1 [==============================] - 0s 1ms/step - loss: 2450.1895 - mae: 42.3110 - mse: 2450.1895\n",
            "Epoch 111/300\n",
            "1/1 [==============================] - 0s 1ms/step - loss: 2459.9563 - mae: 42.4770 - mse: 2459.9563\n",
            "Epoch 112/300\n",
            "1/1 [==============================] - 0s 1ms/step - loss: 2394.0547 - mae: 41.6391 - mse: 2394.0547\n",
            "Epoch 113/300\n",
            "1/1 [==============================] - 0s 1ms/step - loss: 2382.5803 - mae: 41.2289 - mse: 2382.5803\n",
            "Epoch 114/300\n",
            "1/1 [==============================] - 0s 1ms/step - loss: 2294.4253 - mae: 40.4435 - mse: 2294.4253\n",
            "Epoch 115/300\n",
            "1/1 [==============================] - 0s 1ms/step - loss: 2245.2334 - mae: 41.0981 - mse: 2245.2334\n",
            "Epoch 116/300\n",
            "1/1 [==============================] - 0s 1ms/step - loss: 2252.9504 - mae: 39.9013 - mse: 2252.9504\n",
            "Epoch 117/300\n",
            "1/1 [==============================] - 0s 1ms/step - loss: 2160.1851 - mae: 39.0664 - mse: 2160.1851\n",
            "Epoch 118/300\n",
            "1/1 [==============================] - 0s 1ms/step - loss: 2107.2861 - mae: 38.5540 - mse: 2107.2861\n",
            "Epoch 119/300\n",
            "1/1 [==============================] - 0s 1ms/step - loss: 2073.6604 - mae: 37.9917 - mse: 2073.6604\n",
            "Epoch 120/300\n",
            "1/1 [==============================] - 0s 1ms/step - loss: 2026.0095 - mae: 37.2611 - mse: 2026.0095\n",
            "Epoch 121/300\n",
            "1/1 [==============================] - 0s 1ms/step - loss: 2096.4756 - mae: 38.1529 - mse: 2096.4756\n",
            "Epoch 122/300\n",
            "1/1 [==============================] - 0s 2ms/step - loss: 1976.8616 - mae: 36.8560 - mse: 1976.8616\n",
            "Epoch 123/300\n",
            "1/1 [==============================] - 0s 1ms/step - loss: 1934.7330 - mae: 37.1111 - mse: 1934.7330\n",
            "Epoch 124/300\n",
            "1/1 [==============================] - 0s 1ms/step - loss: 1885.5022 - mae: 36.0608 - mse: 1885.5022\n",
            "Epoch 125/300\n",
            "1/1 [==============================] - 0s 1ms/step - loss: 1848.3448 - mae: 35.6306 - mse: 1848.3448\n",
            "Epoch 126/300\n",
            "1/1 [==============================] - 0s 1ms/step - loss: 1806.4642 - mae: 35.2127 - mse: 1806.4642\n",
            "Epoch 127/300\n",
            "1/1 [==============================] - 0s 1ms/step - loss: 1801.5488 - mae: 35.6833 - mse: 1801.5488\n",
            "Epoch 128/300\n",
            "1/1 [==============================] - 0s 1ms/step - loss: 1759.1737 - mae: 34.5960 - mse: 1759.1737\n",
            "Epoch 129/300\n",
            "1/1 [==============================] - 0s 1ms/step - loss: 1718.6550 - mae: 34.0575 - mse: 1718.6550\n",
            "Epoch 130/300\n",
            "1/1 [==============================] - 0s 1ms/step - loss: 1680.3678 - mae: 33.6140 - mse: 1680.3678\n",
            "Epoch 131/300\n",
            "1/1 [==============================] - 0s 3ms/step - loss: 1654.5968 - mae: 33.2423 - mse: 1654.5968\n",
            "Epoch 132/300\n",
            "1/1 [==============================] - 0s 1ms/step - loss: 1635.9109 - mae: 33.1332 - mse: 1635.9109\n",
            "Epoch 133/300\n",
            "1/1 [==============================] - 0s 1ms/step - loss: 1586.9437 - mae: 32.8066 - mse: 1586.9437\n",
            "Epoch 134/300\n",
            "1/1 [==============================] - 0s 1ms/step - loss: 1574.9871 - mae: 32.6629 - mse: 1574.9871\n",
            "Epoch 135/300\n",
            "1/1 [==============================] - 0s 1ms/step - loss: 1506.8925 - mae: 31.7041 - mse: 1506.8925\n",
            "Epoch 136/300\n",
            "1/1 [==============================] - 0s 1ms/step - loss: 1488.6365 - mae: 31.4842 - mse: 1488.6365\n",
            "Epoch 137/300\n",
            "1/1 [==============================] - 0s 2ms/step - loss: 1472.0521 - mae: 31.3742 - mse: 1472.0521\n",
            "Epoch 138/300\n",
            "1/1 [==============================] - 0s 4ms/step - loss: 1609.6809 - mae: 34.3393 - mse: 1609.6809\n",
            "Epoch 139/300\n",
            "1/1 [==============================] - 0s 1ms/step - loss: 1427.5142 - mae: 30.9133 - mse: 1427.5142\n",
            "Epoch 140/300\n",
            "1/1 [==============================] - 0s 1ms/step - loss: 1381.7526 - mae: 30.5060 - mse: 1381.7526\n",
            "Epoch 141/300\n",
            "1/1 [==============================] - 0s 1ms/step - loss: 1352.9314 - mae: 30.2863 - mse: 1352.9314\n",
            "Epoch 142/300\n",
            "1/1 [==============================] - 0s 1ms/step - loss: 1347.9280 - mae: 30.6769 - mse: 1347.9280\n",
            "Epoch 143/300\n",
            "1/1 [==============================] - 0s 1ms/step - loss: 1376.2572 - mae: 29.7445 - mse: 1376.2572\n",
            "Epoch 144/300\n",
            "1/1 [==============================] - 0s 1ms/step - loss: 1318.8579 - mae: 30.0802 - mse: 1318.8579\n",
            "Epoch 145/300\n",
            "1/1 [==============================] - 0s 4ms/step - loss: 1247.0100 - mae: 28.9605 - mse: 1247.0100\n",
            "Epoch 146/300\n",
            "1/1 [==============================] - 0s 1ms/step - loss: 1249.8164 - mae: 28.9484 - mse: 1249.8164\n",
            "Epoch 147/300\n",
            "1/1 [==============================] - 0s 1ms/step - loss: 1207.9333 - mae: 28.4074 - mse: 1207.9333\n",
            "Epoch 148/300\n",
            "1/1 [==============================] - 0s 2ms/step - loss: 1183.8401 - mae: 27.3822 - mse: 1183.8401\n",
            "Epoch 149/300\n",
            "1/1 [==============================] - 0s 1ms/step - loss: 1160.4905 - mae: 27.9391 - mse: 1160.4905\n",
            "Epoch 150/300\n",
            "1/1 [==============================] - 0s 1ms/step - loss: 1272.0931 - mae: 29.0718 - mse: 1272.0931\n",
            "Epoch 151/300\n",
            "1/1 [==============================] - 0s 1ms/step - loss: 1119.5110 - mae: 27.0828 - mse: 1119.5110\n",
            "Epoch 152/300\n",
            "1/1 [==============================] - 0s 1ms/step - loss: 1105.3379 - mae: 26.7832 - mse: 1105.3379\n",
            "Epoch 153/300\n",
            "1/1 [==============================] - 0s 1ms/step - loss: 1138.7977 - mae: 27.9927 - mse: 1138.7977\n",
            "Epoch 154/300\n",
            "1/1 [==============================] - 0s 1ms/step - loss: 1072.3202 - mae: 26.7354 - mse: 1072.3202\n",
            "Epoch 155/300\n",
            "1/1 [==============================] - 0s 1ms/step - loss: 1053.0825 - mae: 26.3079 - mse: 1053.0825\n",
            "Epoch 156/300\n",
            "1/1 [==============================] - 0s 2ms/step - loss: 1039.5996 - mae: 26.2554 - mse: 1039.5996\n",
            "Epoch 157/300\n",
            "1/1 [==============================] - 0s 1ms/step - loss: 1072.9427 - mae: 27.2696 - mse: 1072.9427\n",
            "Epoch 158/300\n",
            "1/1 [==============================] - 0s 1ms/step - loss: 1124.9261 - mae: 27.0476 - mse: 1124.9261\n",
            "Epoch 159/300\n",
            "1/1 [==============================] - 0s 1ms/step - loss: 1031.5035 - mae: 26.4109 - mse: 1031.5035\n",
            "Epoch 160/300\n",
            "1/1 [==============================] - 0s 1ms/step - loss: 986.8266 - mae: 25.9984 - mse: 986.8266\n",
            "Epoch 161/300\n",
            "1/1 [==============================] - 0s 4ms/step - loss: 968.8235 - mae: 25.7613 - mse: 968.8235\n",
            "Epoch 162/300\n",
            "1/1 [==============================] - 0s 1ms/step - loss: 976.1644 - mae: 25.8490 - mse: 976.1644\n",
            "Epoch 163/300\n",
            "1/1 [==============================] - 0s 1ms/step - loss: 944.7863 - mae: 25.5007 - mse: 944.7863\n",
            "Epoch 164/300\n",
            "1/1 [==============================] - 0s 1ms/step - loss: 932.8102 - mae: 25.4262 - mse: 932.8102\n",
            "Epoch 165/300\n",
            "1/1 [==============================] - 0s 1ms/step - loss: 914.7129 - mae: 25.1833 - mse: 914.7129\n",
            "Epoch 166/300\n",
            "1/1 [==============================] - 0s 1ms/step - loss: 923.3428 - mae: 25.5190 - mse: 923.3428\n",
            "Epoch 167/300\n",
            "1/1 [==============================] - 0s 1ms/step - loss: 902.6797 - mae: 25.0038 - mse: 902.6797\n",
            "Epoch 168/300\n",
            "1/1 [==============================] - 0s 1ms/step - loss: 902.4744 - mae: 24.9979 - mse: 902.4744\n",
            "Epoch 169/300\n",
            "1/1 [==============================] - 0s 1ms/step - loss: 894.4722 - mae: 24.8400 - mse: 894.4722\n",
            "Epoch 170/300\n",
            "1/1 [==============================] - 0s 1ms/step - loss: 856.1045 - mae: 24.5756 - mse: 856.1045\n",
            "Epoch 171/300\n",
            "1/1 [==============================] - 0s 1ms/step - loss: 811.5457 - mae: 23.1624 - mse: 811.5457\n",
            "Epoch 172/300\n",
            "1/1 [==============================] - 0s 1ms/step - loss: 875.8386 - mae: 25.7063 - mse: 875.8386\n",
            "Epoch 173/300\n",
            "1/1 [==============================] - 0s 1ms/step - loss: 818.4697 - mae: 23.8142 - mse: 818.4697\n",
            "Epoch 174/300\n",
            "1/1 [==============================] - 0s 1ms/step - loss: 821.2173 - mae: 24.1530 - mse: 821.2173\n",
            "Epoch 175/300\n",
            "1/1 [==============================] - 0s 1ms/step - loss: 810.8573 - mae: 23.8658 - mse: 810.8573\n",
            "Epoch 176/300\n",
            "1/1 [==============================] - 0s 1ms/step - loss: 809.9055 - mae: 23.9153 - mse: 809.9055\n",
            "Epoch 177/300\n",
            "1/1 [==============================] - 0s 1ms/step - loss: 802.9006 - mae: 23.8390 - mse: 802.9006\n",
            "Epoch 178/300\n",
            "1/1 [==============================] - 0s 1ms/step - loss: 822.9562 - mae: 24.6177 - mse: 822.9562\n",
            "Epoch 179/300\n",
            "1/1 [==============================] - 0s 1ms/step - loss: 725.6202 - mae: 22.9262 - mse: 725.6202\n",
            "Epoch 180/300\n",
            "1/1 [==============================] - 0s 1ms/step - loss: 838.9792 - mae: 24.5658 - mse: 838.9792\n",
            "Epoch 181/300\n",
            "1/1 [==============================] - 0s 2ms/step - loss: 776.5916 - mae: 23.1568 - mse: 776.5916\n",
            "Epoch 182/300\n",
            "1/1 [==============================] - 0s 1ms/step - loss: 779.8790 - mae: 23.6801 - mse: 779.8790\n",
            "Epoch 183/300\n",
            "1/1 [==============================] - 0s 1ms/step - loss: 756.2994 - mae: 23.3334 - mse: 756.2994\n",
            "Epoch 184/300\n",
            "1/1 [==============================] - 0s 2ms/step - loss: 822.0123 - mae: 24.4485 - mse: 822.0123\n",
            "Epoch 185/300\n",
            "1/1 [==============================] - 0s 1ms/step - loss: 812.7767 - mae: 24.1417 - mse: 812.7767\n",
            "Epoch 186/300\n",
            "1/1 [==============================] - 0s 1ms/step - loss: 754.6482 - mae: 23.1756 - mse: 754.6482\n",
            "Epoch 187/300\n",
            "1/1 [==============================] - 0s 1ms/step - loss: 748.5885 - mae: 23.3567 - mse: 748.5885\n",
            "Epoch 188/300\n",
            "1/1 [==============================] - 0s 1ms/step - loss: 733.5023 - mae: 23.0543 - mse: 733.5023\n",
            "Epoch 189/300\n",
            "1/1 [==============================] - 0s 1ms/step - loss: 719.6942 - mae: 22.7273 - mse: 719.6942\n",
            "Epoch 190/300\n",
            "1/1 [==============================] - 0s 1ms/step - loss: 800.1380 - mae: 23.8142 - mse: 800.1380\n",
            "Epoch 191/300\n",
            "1/1 [==============================] - 0s 1ms/step - loss: 766.5253 - mae: 23.6282 - mse: 766.5253\n",
            "Epoch 192/300\n",
            "1/1 [==============================] - 0s 1ms/step - loss: 756.5887 - mae: 23.2978 - mse: 756.5887\n",
            "Epoch 193/300\n",
            "1/1 [==============================] - 0s 1ms/step - loss: 719.9394 - mae: 23.7432 - mse: 719.9394\n",
            "Epoch 194/300\n",
            "1/1 [==============================] - 0s 1ms/step - loss: 710.5950 - mae: 22.8286 - mse: 710.5950\n",
            "Epoch 195/300\n",
            "1/1 [==============================] - 0s 1ms/step - loss: 690.2140 - mae: 22.6123 - mse: 690.2140\n",
            "Epoch 196/300\n",
            "1/1 [==============================] - 0s 3ms/step - loss: 691.6105 - mae: 22.6216 - mse: 691.6105\n",
            "Epoch 197/300\n",
            "1/1 [==============================] - 0s 1ms/step - loss: 708.0207 - mae: 23.0247 - mse: 708.0207\n",
            "Epoch 198/300\n",
            "1/1 [==============================] - 0s 1ms/step - loss: 655.0862 - mae: 21.3740 - mse: 655.0862\n",
            "Epoch 199/300\n",
            "1/1 [==============================] - 0s 1ms/step - loss: 699.2897 - mae: 22.6145 - mse: 699.2897\n",
            "Epoch 200/300\n",
            "1/1 [==============================] - 0s 1ms/step - loss: 671.2278 - mae: 22.3334 - mse: 671.2278\n",
            "Epoch 201/300\n",
            "1/1 [==============================] - 0s 1ms/step - loss: 698.4279 - mae: 22.7861 - mse: 698.4279\n",
            "Epoch 202/300\n",
            "1/1 [==============================] - 0s 1ms/step - loss: 698.1527 - mae: 22.6055 - mse: 698.1527\n",
            "Epoch 203/300\n",
            "1/1 [==============================] - 0s 1ms/step - loss: 703.5434 - mae: 23.0726 - mse: 703.5434\n",
            "Epoch 204/300\n",
            "1/1 [==============================] - 0s 1ms/step - loss: 623.8178 - mae: 20.3794 - mse: 623.8178\n",
            "Epoch 205/300\n",
            "1/1 [==============================] - 0s 1ms/step - loss: 659.0139 - mae: 22.3126 - mse: 659.0139\n",
            "Epoch 206/300\n",
            "1/1 [==============================] - 0s 1ms/step - loss: 688.6005 - mae: 22.5083 - mse: 688.6005\n",
            "Epoch 207/300\n",
            "1/1 [==============================] - 0s 1ms/step - loss: 648.9914 - mae: 22.0221 - mse: 648.9914\n",
            "Epoch 208/300\n",
            "1/1 [==============================] - 0s 1ms/step - loss: 699.6334 - mae: 22.8500 - mse: 699.6334\n",
            "Epoch 209/300\n",
            "1/1 [==============================] - 0s 1ms/step - loss: 689.7613 - mae: 22.8367 - mse: 689.7613\n",
            "Epoch 210/300\n",
            "1/1 [==============================] - 0s 1ms/step - loss: 650.9735 - mae: 22.0104 - mse: 650.9735\n",
            "Epoch 211/300\n",
            "1/1 [==============================] - 0s 1ms/step - loss: 667.0419 - mae: 22.3710 - mse: 667.0419\n",
            "Epoch 212/300\n",
            "1/1 [==============================] - 0s 1ms/step - loss: 675.8091 - mae: 22.7506 - mse: 675.8091\n",
            "Epoch 213/300\n",
            "1/1 [==============================] - 0s 1ms/step - loss: 655.1833 - mae: 22.2218 - mse: 655.1833\n",
            "Epoch 214/300\n",
            "1/1 [==============================] - 0s 1ms/step - loss: 647.2843 - mae: 21.9576 - mse: 647.2843\n",
            "Epoch 215/300\n",
            "1/1 [==============================] - 0s 1ms/step - loss: 599.3856 - mae: 20.0011 - mse: 599.3856\n",
            "Epoch 216/300\n",
            "1/1 [==============================] - 0s 1ms/step - loss: 678.4418 - mae: 22.8339 - mse: 678.4418\n",
            "Epoch 217/300\n",
            "1/1 [==============================] - 0s 1ms/step - loss: 629.5641 - mae: 21.8788 - mse: 629.5641\n",
            "Epoch 218/300\n",
            "1/1 [==============================] - 0s 1ms/step - loss: 682.1841 - mae: 22.4224 - mse: 682.1841\n",
            "Epoch 219/300\n",
            "1/1 [==============================] - 0s 1ms/step - loss: 649.4966 - mae: 22.2571 - mse: 649.4966\n",
            "Epoch 220/300\n",
            "1/1 [==============================] - 0s 1ms/step - loss: 653.3605 - mae: 22.0729 - mse: 653.3605\n",
            "Epoch 221/300\n",
            "1/1 [==============================] - 0s 1ms/step - loss: 654.7212 - mae: 22.3038 - mse: 654.7212\n",
            "Epoch 222/300\n",
            "1/1 [==============================] - 0s 1ms/step - loss: 651.9107 - mae: 22.0489 - mse: 651.9107\n",
            "Epoch 223/300\n",
            "1/1 [==============================] - 0s 1ms/step - loss: 654.4367 - mae: 22.3230 - mse: 654.4367\n",
            "Epoch 224/300\n",
            "1/1 [==============================] - 0s 1ms/step - loss: 635.7253 - mae: 22.2240 - mse: 635.7253\n",
            "Epoch 225/300\n",
            "1/1 [==============================] - 0s 1ms/step - loss: 641.0711 - mae: 21.9482 - mse: 641.0711\n",
            "Epoch 226/300\n",
            "1/1 [==============================] - 0s 1ms/step - loss: 612.6456 - mae: 21.0508 - mse: 612.6456\n",
            "Epoch 227/300\n",
            "1/1 [==============================] - 0s 2ms/step - loss: 650.0958 - mae: 22.3005 - mse: 650.0958\n",
            "Epoch 228/300\n",
            "1/1 [==============================] - 0s 2ms/step - loss: 638.6352 - mae: 21.9334 - mse: 638.6352\n",
            "Epoch 229/300\n",
            "1/1 [==============================] - 0s 1ms/step - loss: 619.6097 - mae: 21.0154 - mse: 619.6097\n",
            "Epoch 230/300\n",
            "1/1 [==============================] - 0s 1ms/step - loss: 635.1468 - mae: 21.5947 - mse: 635.1468\n",
            "Epoch 231/300\n",
            "1/1 [==============================] - 0s 1ms/step - loss: 629.6495 - mae: 21.1501 - mse: 629.6495\n",
            "Epoch 232/300\n",
            "1/1 [==============================] - 0s 1ms/step - loss: 630.0745 - mae: 21.7207 - mse: 630.0745\n",
            "Epoch 233/300\n",
            "1/1 [==============================] - 0s 1ms/step - loss: 589.4772 - mae: 20.9194 - mse: 589.4772\n",
            "Epoch 234/300\n",
            "1/1 [==============================] - 0s 1ms/step - loss: 731.7901 - mae: 23.5743 - mse: 731.7901\n",
            "Epoch 235/300\n",
            "1/1 [==============================] - 0s 1ms/step - loss: 633.6345 - mae: 21.3923 - mse: 633.6345\n",
            "Epoch 236/300\n",
            "1/1 [==============================] - 0s 1ms/step - loss: 502.2709 - mae: 18.8407 - mse: 502.2709\n",
            "Epoch 237/300\n",
            "1/1 [==============================] - 0s 1ms/step - loss: 597.8125 - mae: 21.4090 - mse: 597.8125\n",
            "Epoch 238/300\n",
            "1/1 [==============================] - 0s 1ms/step - loss: 614.7809 - mae: 22.1337 - mse: 614.7809\n",
            "Epoch 239/300\n",
            "1/1 [==============================] - 0s 1ms/step - loss: 562.1155 - mae: 20.4384 - mse: 562.1155\n",
            "Epoch 240/300\n",
            "1/1 [==============================] - 0s 1ms/step - loss: 593.0657 - mae: 22.0179 - mse: 593.0657\n",
            "Epoch 241/300\n",
            "1/1 [==============================] - 0s 2ms/step - loss: 557.7460 - mae: 20.9110 - mse: 557.7460\n",
            "Epoch 242/300\n",
            "1/1 [==============================] - 0s 2ms/step - loss: 548.4451 - mae: 20.1404 - mse: 548.4451\n",
            "Epoch 243/300\n",
            "1/1 [==============================] - 0s 3ms/step - loss: 570.1884 - mae: 19.8966 - mse: 570.1884\n",
            "Epoch 244/300\n",
            "1/1 [==============================] - 0s 2ms/step - loss: 544.4951 - mae: 20.9788 - mse: 544.4951\n",
            "Epoch 245/300\n",
            "1/1 [==============================] - 0s 2ms/step - loss: 537.1854 - mae: 19.5720 - mse: 537.1854\n",
            "Epoch 246/300\n",
            "1/1 [==============================] - 0s 1ms/step - loss: 571.0560 - mae: 20.5988 - mse: 571.0560\n",
            "Epoch 247/300\n",
            "1/1 [==============================] - 0s 992us/step - loss: 552.0808 - mae: 19.9172 - mse: 552.0808\n",
            "Epoch 248/300\n",
            "1/1 [==============================] - 0s 1ms/step - loss: 539.7039 - mae: 20.1509 - mse: 539.7039\n",
            "Epoch 249/300\n",
            "1/1 [==============================] - 0s 1ms/step - loss: 603.5332 - mae: 21.4957 - mse: 603.5332\n",
            "Epoch 250/300\n",
            "1/1 [==============================] - 0s 1ms/step - loss: 545.2512 - mae: 19.3041 - mse: 545.2512\n",
            "Epoch 251/300\n",
            "1/1 [==============================] - 0s 1ms/step - loss: 492.1599 - mae: 18.2648 - mse: 492.1599\n",
            "Epoch 252/300\n",
            "1/1 [==============================] - 0s 1ms/step - loss: 446.3649 - mae: 17.6283 - mse: 446.3649\n",
            "Epoch 253/300\n",
            "1/1 [==============================] - 0s 1ms/step - loss: 527.1638 - mae: 20.0674 - mse: 527.1638\n",
            "Epoch 254/300\n",
            "1/1 [==============================] - 0s 1ms/step - loss: 520.8718 - mae: 19.5040 - mse: 520.8718\n",
            "Epoch 255/300\n",
            "1/1 [==============================] - 0s 1ms/step - loss: 553.4236 - mae: 20.1552 - mse: 553.4236\n",
            "Epoch 256/300\n",
            "1/1 [==============================] - 0s 974us/step - loss: 533.1432 - mae: 19.8781 - mse: 533.1432\n",
            "Epoch 257/300\n",
            "1/1 [==============================] - 0s 1ms/step - loss: 519.9097 - mae: 19.8823 - mse: 519.9097\n",
            "Epoch 258/300\n",
            "1/1 [==============================] - 0s 1ms/step - loss: 532.0100 - mae: 20.4626 - mse: 532.0100\n",
            "Epoch 259/300\n",
            "1/1 [==============================] - 0s 2ms/step - loss: 531.2244 - mae: 20.1080 - mse: 531.2244\n",
            "Epoch 260/300\n",
            "1/1 [==============================] - 0s 1ms/step - loss: 547.7051 - mae: 20.2958 - mse: 547.7051\n",
            "Epoch 261/300\n",
            "1/1 [==============================] - 0s 1ms/step - loss: 547.2554 - mae: 20.2660 - mse: 547.2554\n",
            "Epoch 262/300\n",
            "1/1 [==============================] - 0s 1ms/step - loss: 521.8170 - mae: 20.0688 - mse: 521.8170\n",
            "Epoch 263/300\n",
            "1/1 [==============================] - 0s 1ms/step - loss: 555.1426 - mae: 19.8776 - mse: 555.1426\n",
            "Epoch 264/300\n",
            "1/1 [==============================] - 0s 1ms/step - loss: 464.9897 - mae: 18.8174 - mse: 464.9897\n",
            "Epoch 265/300\n",
            "1/1 [==============================] - 0s 1ms/step - loss: 562.1956 - mae: 21.6758 - mse: 562.1956\n",
            "Epoch 266/300\n",
            "1/1 [==============================] - 0s 1ms/step - loss: 496.7252 - mae: 20.1364 - mse: 496.7252\n",
            "Epoch 267/300\n",
            "1/1 [==============================] - 0s 1ms/step - loss: 503.5579 - mae: 19.4661 - mse: 503.5579\n",
            "Epoch 268/300\n",
            "1/1 [==============================] - 0s 1ms/step - loss: 455.0123 - mae: 18.6605 - mse: 455.0123\n",
            "Epoch 269/300\n",
            "1/1 [==============================] - 0s 1ms/step - loss: 422.7252 - mae: 17.6533 - mse: 422.7252\n",
            "Epoch 270/300\n",
            "1/1 [==============================] - 0s 984us/step - loss: 435.4633 - mae: 17.5368 - mse: 435.4633\n",
            "Epoch 271/300\n",
            "1/1 [==============================] - 0s 3ms/step - loss: 479.0089 - mae: 19.2123 - mse: 479.0089\n",
            "Epoch 272/300\n",
            "1/1 [==============================] - 0s 3ms/step - loss: 466.2843 - mae: 18.2075 - mse: 466.2843\n",
            "Epoch 273/300\n",
            "1/1 [==============================] - 0s 3ms/step - loss: 412.9615 - mae: 17.3217 - mse: 412.9615\n",
            "Epoch 274/300\n",
            "1/1 [==============================] - 0s 1ms/step - loss: 415.1543 - mae: 17.2338 - mse: 415.1543\n",
            "Epoch 275/300\n",
            "1/1 [==============================] - 0s 1ms/step - loss: 444.5165 - mae: 17.0133 - mse: 444.5165\n",
            "Epoch 276/300\n",
            "1/1 [==============================] - 0s 1ms/step - loss: 562.0669 - mae: 19.7078 - mse: 562.0669\n",
            "Epoch 277/300\n",
            "1/1 [==============================] - 0s 1ms/step - loss: 478.8336 - mae: 18.7010 - mse: 478.8336\n",
            "Epoch 278/300\n",
            "1/1 [==============================] - 0s 2ms/step - loss: 464.7719 - mae: 16.1799 - mse: 464.7719\n",
            "Epoch 279/300\n",
            "1/1 [==============================] - 0s 1ms/step - loss: 421.8915 - mae: 17.1038 - mse: 421.8915\n",
            "Epoch 280/300\n",
            "1/1 [==============================] - 0s 1ms/step - loss: 414.7157 - mae: 17.7731 - mse: 414.7157\n",
            "Epoch 281/300\n",
            "1/1 [==============================] - 0s 2ms/step - loss: 412.5062 - mae: 16.7697 - mse: 412.5062\n",
            "Epoch 282/300\n",
            "1/1 [==============================] - 0s 1ms/step - loss: 390.0988 - mae: 16.9563 - mse: 390.0988\n",
            "Epoch 283/300\n",
            "1/1 [==============================] - 0s 1ms/step - loss: 362.4613 - mae: 17.0116 - mse: 362.4613\n",
            "Epoch 284/300\n",
            "1/1 [==============================] - 0s 1ms/step - loss: 406.5730 - mae: 17.0997 - mse: 406.5730\n",
            "Epoch 285/300\n",
            "1/1 [==============================] - 0s 1ms/step - loss: 376.7268 - mae: 16.5749 - mse: 376.7268\n",
            "Epoch 286/300\n",
            "1/1 [==============================] - 0s 1ms/step - loss: 448.7997 - mae: 16.8814 - mse: 448.7997\n",
            "Epoch 287/300\n",
            "1/1 [==============================] - 0s 3ms/step - loss: 371.9835 - mae: 16.5917 - mse: 371.9835\n",
            "Epoch 288/300\n",
            "1/1 [==============================] - 0s 2ms/step - loss: 299.9786 - mae: 13.9558 - mse: 299.9786\n",
            "Epoch 289/300\n",
            "1/1 [==============================] - 0s 1ms/step - loss: 326.6994 - mae: 14.4248 - mse: 326.6994\n",
            "Epoch 290/300\n",
            "1/1 [==============================] - 0s 1ms/step - loss: 403.5954 - mae: 15.7576 - mse: 403.5954\n",
            "Epoch 291/300\n",
            "1/1 [==============================] - 0s 1ms/step - loss: 355.0417 - mae: 14.1848 - mse: 355.0417\n",
            "Epoch 292/300\n",
            "1/1 [==============================] - 0s 2ms/step - loss: 495.3934 - mae: 19.7315 - mse: 495.3934\n",
            "Epoch 293/300\n",
            "1/1 [==============================] - 0s 1ms/step - loss: 410.1172 - mae: 18.4884 - mse: 410.1172\n",
            "Epoch 294/300\n",
            "1/1 [==============================] - 0s 1ms/step - loss: 371.2034 - mae: 17.0490 - mse: 371.2034\n",
            "Epoch 295/300\n",
            "1/1 [==============================] - 0s 1ms/step - loss: 613.5483 - mae: 21.1541 - mse: 613.5483\n",
            "Epoch 296/300\n",
            "1/1 [==============================] - 0s 1ms/step - loss: 318.2086 - mae: 15.3671 - mse: 318.2086\n",
            "Epoch 297/300\n",
            "1/1 [==============================] - 0s 2ms/step - loss: 261.4580 - mae: 11.4760 - mse: 261.4580\n",
            "Epoch 298/300\n",
            "1/1 [==============================] - 0s 1ms/step - loss: 253.8018 - mae: 12.3328 - mse: 253.8018\n",
            "Epoch 299/300\n",
            "1/1 [==============================] - 0s 3ms/step - loss: 273.2076 - mae: 14.1826 - mse: 273.2076\n",
            "Epoch 300/300\n",
            "1/1 [==============================] - 0s 1ms/step - loss: 263.5601 - mae: 12.7324 - mse: 263.5601\n"
          ],
          "name": "stdout"
        },
        {
          "output_type": "execute_result",
          "data": {
            "text/plain": [
              "<tensorflow.python.keras.callbacks.History at 0x7f47ca139fd0>"
            ]
          },
          "metadata": {
            "tags": []
          },
          "execution_count": 15
        }
      ]
    },
    {
      "cell_type": "markdown",
      "metadata": {
        "id": "xZo2kgFq0GxI",
        "colab_type": "text"
      },
      "source": [
        "Once you have trained your model, run the code below to test it. The predicted output should be near `130` and the rounded output should be exactly `130`. We can round our prediction because we know our sequence only deals in increments of 10, with real data this would be a bad idea."
      ]
    },
    {
      "cell_type": "code",
      "metadata": {
        "id": "EM7qFhDOx8Hg",
        "colab_type": "code",
        "colab": {
          "base_uri": "https://localhost:8080/",
          "height": 51
        },
        "outputId": "70c96b33-2feb-468c-da2c-89783f8c05c1"
      },
      "source": [
        "# demonstrate prediction\n",
        "x_input = array([100, 110, 120])\n",
        "x_input = x_input.reshape((1, 3, n_features))\n",
        "yhat = model.predict(x_input, verbose=0)[0][0]\n",
        "\n",
        "print('Prediction:', yhat)\n",
        "print('Rounded to Nearest 10:', int((10 * round(yhat/10))))"
      ],
      "execution_count": 17,
      "outputs": [
        {
          "output_type": "stream",
          "text": [
            "Prediction: 87.7359\n",
            "Rounded to Nearest 10: 90\n"
          ],
          "name": "stdout"
        }
      ]
    },
    {
      "cell_type": "markdown",
      "metadata": {
        "id": "pcTffzWm2xFj",
        "colab_type": "text"
      },
      "source": [
        "### CNN's"
      ]
    },
    {
      "cell_type": "markdown",
      "metadata": {
        "id": "xhUwcHtI4beu",
        "colab_type": "text"
      },
      "source": [
        "[Jian-Yang](https://www.youtube.com/watch?v=ACmydtFDTGs) from Silicon Valley might be on to the next billion dollar company. Beat him to market by creating your own hotdog detector using a pretrained model from TensorFlow Hub. You should be able to feed your model an image final output should be either \"Hotdog\" or \"Not hotdog\"."
      ]
    },
    {
      "cell_type": "code",
      "metadata": {
        "id": "10TSJxDl06B1",
        "colab_type": "code",
        "colab": {
          "base_uri": "https://localhost:8080/",
          "height": 206
        },
        "outputId": "63503e92-57ce-4fe3-feaa-6a1f6823fe07"
      },
      "source": [
        "from tensorflow.keras.applications import ResNet50V2\n",
        "from tensorflow.keras.applications.resnet_v2 import preprocess_input, decode_predictions\n",
        "\n",
        "!wget https://2.bp.blogspot.com/-b-kuCh7cf8w/TiRi5Jvq7oI/AAAAAAAAAQ4/Vzk7nOqZs1g/s1600/hot+dog.jpg"
      ],
      "execution_count": 18,
      "outputs": [
        {
          "output_type": "stream",
          "text": [
            "--2020-08-16 23:29:05--  https://2.bp.blogspot.com/-b-kuCh7cf8w/TiRi5Jvq7oI/AAAAAAAAAQ4/Vzk7nOqZs1g/s1600/hot+dog.jpg\n",
            "Resolving 2.bp.blogspot.com (2.bp.blogspot.com)... 74.125.142.132, 2607:f8b0:400e:c07::84\n",
            "Connecting to 2.bp.blogspot.com (2.bp.blogspot.com)|74.125.142.132|:443... connected.\n",
            "HTTP request sent, awaiting response... 200 OK\n",
            "Length: 73473 (72K) [image/jpeg]\n",
            "Saving to: ‘hot+dog.jpg’\n",
            "\n",
            "\rhot+dog.jpg           0%[                    ]       0  --.-KB/s               \rhot+dog.jpg         100%[===================>]  71.75K  --.-KB/s    in 0.001s  \n",
            "\n",
            "2020-08-16 23:29:06 (112 MB/s) - ‘hot+dog.jpg’ saved [73473/73473]\n",
            "\n"
          ],
          "name": "stdout"
        }
      ]
    },
    {
      "cell_type": "code",
      "metadata": {
        "id": "4MusZVbemwX4",
        "colab_type": "code",
        "colab": {}
      },
      "source": [
        "from tensorflow.keras.preprocessing import image\n",
        "import numpy as np\n",
        "\n",
        "def process_image_path(img_path):\n",
        "    return image.load_img(img_path, target_size=(224, 224))\n",
        "\n",
        "def img_contains_hotdog(img):\n",
        "    x = image.img_to_array(img)\n",
        "    x = np.expand_dims(x, axis=0)\n",
        "    x = preprocess_input(x)\n",
        "    model = ResNet50V2(weights=\"imagenet\")\n",
        "    features = model.predict(x)\n",
        "    results = decode_predictions(features)[0]\n",
        "    for result in results:\n",
        "        if \"hotdog\" in result[1]:\n",
        "            return result[2]\n",
        "    return 0.0"
      ],
      "execution_count": 28,
      "outputs": []
    },
    {
      "cell_type": "code",
      "metadata": {
        "id": "ybiBMeqtnf2I",
        "colab_type": "code",
        "colab": {}
      },
      "source": [
        "img = process_image_path(\"hot+dog.jpg\")"
      ],
      "execution_count": 29,
      "outputs": []
    },
    {
      "cell_type": "code",
      "metadata": {
        "id": "1j836acMnrv3",
        "colab_type": "code",
        "colab": {
          "base_uri": "https://localhost:8080/",
          "height": 34
        },
        "outputId": "324147d5-76cb-4ac8-927a-01c56056617a"
      },
      "source": [
        "img_contains_hotdog(img)"
      ],
      "execution_count": 30,
      "outputs": [
        {
          "output_type": "execute_result",
          "data": {
            "text/plain": [
              "1.0"
            ]
          },
          "metadata": {
            "tags": []
          },
          "execution_count": 30
        }
      ]
    },
    {
      "cell_type": "code",
      "metadata": {
        "id": "v3zlpIt8oFYT",
        "colab_type": "code",
        "colab": {
          "base_uri": "https://localhost:8080/",
          "height": 226
        },
        "outputId": "57f9567c-fc6d-4858-cdc8-26ba88d4fbac"
      },
      "source": [
        "!wget https://upload.wikimedia.org/wikipedia/commons/thumb/b/b1/Hot_dog_with_mustard.png/1920px-Hot_dog_with_mustard.png"
      ],
      "execution_count": 31,
      "outputs": [
        {
          "output_type": "stream",
          "text": [
            "--2020-08-16 23:35:35--  https://upload.wikimedia.org/wikipedia/commons/thumb/b/b1/Hot_dog_with_mustard.png/1920px-Hot_dog_with_mustard.png\n",
            "Resolving upload.wikimedia.org (upload.wikimedia.org)... 198.35.26.112, 2620:0:863:ed1a::2:b\n",
            "Connecting to upload.wikimedia.org (upload.wikimedia.org)|198.35.26.112|:443... connected.\n",
            "HTTP request sent, awaiting response... 200 OK\n",
            "Length: 2182260 (2.1M) [image/png]\n",
            "Saving to: ‘1920px-Hot_dog_with_mustard.png’\n",
            "\n",
            "\r          1920px-Ho   0%[                    ]       0  --.-KB/s               \r1920px-Hot_dog_with 100%[===================>]   2.08M  13.8MB/s    in 0.2s    \n",
            "\n",
            "2020-08-16 23:35:35 (13.8 MB/s) - ‘1920px-Hot_dog_with_mustard.png’ saved [2182260/2182260]\n",
            "\n"
          ],
          "name": "stdout"
        }
      ]
    },
    {
      "cell_type": "code",
      "metadata": {
        "id": "S2KqmnjloOUS",
        "colab_type": "code",
        "colab": {
          "base_uri": "https://localhost:8080/",
          "height": 71
        },
        "outputId": "29aeef9b-df1d-4bb0-f019-a7d1c6f3e368"
      },
      "source": [
        "img = process_image_path(\"hot_dog_with_mustard.png\")\n",
        "img_contains_hotdog(img)"
      ],
      "execution_count": 33,
      "outputs": [
        {
          "output_type": "stream",
          "text": [
            "WARNING:tensorflow:5 out of the last 5 calls to <function Model.make_predict_function.<locals>.predict_function at 0x7f45f4a310d0> triggered tf.function retracing. Tracing is expensive and the excessive number of tracings could be due to (1) creating @tf.function repeatedly in a loop, (2) passing tensors with different shapes, (3) passing Python objects instead of tensors. For (1), please define your @tf.function outside of the loop. For (2), @tf.function has experimental_relax_shapes=True option that relaxes argument shapes that can avoid unnecessary retracing. For (3), please refer to https://www.tensorflow.org/tutorials/customization/performance#python_or_tensor_args and https://www.tensorflow.org/api_docs/python/tf/function for  more details.\n"
          ],
          "name": "stdout"
        },
        {
          "output_type": "execute_result",
          "data": {
            "text/plain": [
              "0.9997738"
            ]
          },
          "metadata": {
            "tags": []
          },
          "execution_count": 33
        }
      ]
    },
    {
      "cell_type": "code",
      "metadata": {
        "id": "OVaxcpRIonh4",
        "colab_type": "code",
        "colab": {
          "base_uri": "https://localhost:8080/",
          "height": 206
        },
        "outputId": "6df4debe-5e76-432e-cd70-0d3233efa9d6"
      },
      "source": [
        "!wget https://s23991.pcdn.co/wp-content/uploads/2014/06/best-hot-dog-recipe-fi.jpg"
      ],
      "execution_count": 34,
      "outputs": [
        {
          "output_type": "stream",
          "text": [
            "--2020-08-16 23:37:30--  https://s23991.pcdn.co/wp-content/uploads/2014/06/best-hot-dog-recipe-fi.jpg\n",
            "Resolving s23991.pcdn.co (s23991.pcdn.co)... 13.224.29.123, 13.224.29.97, 13.224.29.112, ...\n",
            "Connecting to s23991.pcdn.co (s23991.pcdn.co)|13.224.29.123|:443... connected.\n",
            "HTTP request sent, awaiting response... 200 OK\n",
            "Length: 64261 (63K) [image/jpeg]\n",
            "Saving to: ‘best-hot-dog-recipe-fi.jpg’\n",
            "\n",
            "best-hot-dog-recipe 100%[===================>]  62.75K  --.-KB/s    in 0.08s   \n",
            "\n",
            "2020-08-16 23:37:31 (783 KB/s) - ‘best-hot-dog-recipe-fi.jpg’ saved [64261/64261]\n",
            "\n"
          ],
          "name": "stdout"
        }
      ]
    },
    {
      "cell_type": "code",
      "metadata": {
        "id": "pwDOu_unoqmc",
        "colab_type": "code",
        "colab": {
          "base_uri": "https://localhost:8080/",
          "height": 71
        },
        "outputId": "907c8a66-e5b3-4dd1-dab8-106a44588b3f"
      },
      "source": [
        "img = process_image_path(\"best-hot-dog-recipe-fi.jpg\")\n",
        "img_contains_hotdog(img)"
      ],
      "execution_count": 35,
      "outputs": [
        {
          "output_type": "stream",
          "text": [
            "WARNING:tensorflow:6 out of the last 6 calls to <function Model.make_predict_function.<locals>.predict_function at 0x7f45f3de7ae8> triggered tf.function retracing. Tracing is expensive and the excessive number of tracings could be due to (1) creating @tf.function repeatedly in a loop, (2) passing tensors with different shapes, (3) passing Python objects instead of tensors. For (1), please define your @tf.function outside of the loop. For (2), @tf.function has experimental_relax_shapes=True option that relaxes argument shapes that can avoid unnecessary retracing. For (3), please refer to https://www.tensorflow.org/tutorials/customization/performance#python_or_tensor_args and https://www.tensorflow.org/api_docs/python/tf/function for  more details.\n"
          ],
          "name": "stdout"
        },
        {
          "output_type": "execute_result",
          "data": {
            "text/plain": [
              "0.9930836"
            ]
          },
          "metadata": {
            "tags": []
          },
          "execution_count": 35
        }
      ]
    },
    {
      "cell_type": "code",
      "metadata": {
        "id": "XLhbeiM3o6TY",
        "colab_type": "code",
        "colab": {
          "base_uri": "https://localhost:8080/",
          "height": 206
        },
        "outputId": "91d62e51-bdef-46d4-e914-a8ee7c422a08"
      },
      "source": [
        "!wget https://i.ytimg.com/vi/gxmHOwWh-i4/maxresdefault.jpg"
      ],
      "execution_count": 36,
      "outputs": [
        {
          "output_type": "stream",
          "text": [
            "--2020-08-16 23:38:44--  https://i.ytimg.com/vi/gxmHOwWh-i4/maxresdefault.jpg\n",
            "Resolving i.ytimg.com (i.ytimg.com)... 74.125.20.119, 2607:f8b0:400e:c09::77\n",
            "Connecting to i.ytimg.com (i.ytimg.com)|74.125.20.119|:443... connected.\n",
            "HTTP request sent, awaiting response... 200 OK\n",
            "Length: 47029 (46K) [image/jpeg]\n",
            "Saving to: ‘maxresdefault.jpg’\n",
            "\n",
            "\rmaxresdefault.jpg     0%[                    ]       0  --.-KB/s               \rmaxresdefault.jpg   100%[===================>]  45.93K  --.-KB/s    in 0s      \n",
            "\n",
            "2020-08-16 23:38:44 (124 MB/s) - ‘maxresdefault.jpg’ saved [47029/47029]\n",
            "\n"
          ],
          "name": "stdout"
        }
      ]
    },
    {
      "cell_type": "code",
      "metadata": {
        "id": "Spwrf8VQo81D",
        "colab_type": "code",
        "colab": {
          "base_uri": "https://localhost:8080/",
          "height": 71
        },
        "outputId": "b7085c80-4def-4f41-ce9e-5ded602af10c"
      },
      "source": [
        "img = process_image_path(\"maxresdefault.jpg\")\n",
        "img_contains_hotdog(img)"
      ],
      "execution_count": 37,
      "outputs": [
        {
          "output_type": "stream",
          "text": [
            "WARNING:tensorflow:7 out of the last 7 calls to <function Model.make_predict_function.<locals>.predict_function at 0x7f47ebfb8840> triggered tf.function retracing. Tracing is expensive and the excessive number of tracings could be due to (1) creating @tf.function repeatedly in a loop, (2) passing tensors with different shapes, (3) passing Python objects instead of tensors. For (1), please define your @tf.function outside of the loop. For (2), @tf.function has experimental_relax_shapes=True option that relaxes argument shapes that can avoid unnecessary retracing. For (3), please refer to https://www.tensorflow.org/tutorials/customization/performance#python_or_tensor_args and https://www.tensorflow.org/api_docs/python/tf/function for  more details.\n"
          ],
          "name": "stdout"
        },
        {
          "output_type": "execute_result",
          "data": {
            "text/plain": [
              "0.0"
            ]
          },
          "metadata": {
            "tags": []
          },
          "execution_count": 37
        }
      ]
    },
    {
      "cell_type": "markdown",
      "metadata": {
        "id": "HQ25yIiz5WEU",
        "colab_type": "text"
      },
      "source": [
        "Once complete, test out your model with random hotdog and non-hotdog related images."
      ]
    },
    {
      "cell_type": "code",
      "metadata": {
        "id": "Zh_kVw6wo8I2",
        "colab_type": "code",
        "colab": {}
      },
      "source": [
        ""
      ],
      "execution_count": null,
      "outputs": []
    },
    {
      "cell_type": "code",
      "metadata": {
        "id": "MB4UqarA5VeI",
        "colab_type": "code",
        "colab": {}
      },
      "source": [
        ""
      ],
      "execution_count": null,
      "outputs": []
    },
    {
      "cell_type": "markdown",
      "metadata": {
        "id": "n2VrTjGdWkJS",
        "colab_type": "text"
      },
      "source": [
        "# Artificial Intelligence"
      ]
    },
    {
      "cell_type": "markdown",
      "metadata": {
        "id": "93x_dWAaWnkS",
        "colab_type": "text"
      },
      "source": [
        "1. What is General Artificial Intelligence?\n",
        "```\n",
        "Your Answer Here\n",
        "```\n",
        "\n",
        "2. Is General Artificial Intelligence possible? Why or Why not?\n",
        "```\n",
        "Your Answer Here\n",
        "```\n",
        "\n",
        "3. As data science improves, what positive and negative impacts do you think it will have on our society?\n",
        "```\n",
        "Your Answer Here\n",
        "```\n",
        "\n",
        "4. What are the benefits and dangers of pursuing AI? Does the good outweigh the bad?\n",
        "```\n",
        "Your Answer Here\n",
        "```\n",
        "\n",
        "5. The world is unlikely to stop pursuing the goal of thinking machines, so what steps/precautions can we take to approach the challenge in a safe and ethical way?\n",
        "```\n",
        "Your Answer Here\n",
        "```\n",
        "\n",
        "6. Automation is now getting to the point of impacting fields that have been traditionally safe from such concerns such as transportation, machine learning, and healthcare. What impact do you think this will have on these professions? Will these jobs simply shift to accomodate the automation or will the automation eliminate the jobs?\n",
        "```\n",
        "Your Answer Here\n",
        "```"
      ]
    },
    {
      "cell_type": "markdown",
      "metadata": {
        "id": "TZAlI0A36_OT",
        "colab_type": "text"
      },
      "source": [
        "## Practice Problem"
      ]
    },
    {
      "cell_type": "markdown",
      "metadata": {
        "id": "2QSA_BC76aP0",
        "colab_type": "text"
      },
      "source": [
        "Try using AutoML on the dataset below. It's great if you can get it working but don't spend too much time struggling with it. If you get stuck, move on to the next question."
      ]
    },
    {
      "cell_type": "code",
      "metadata": {
        "id": "ew7GT97X66qD",
        "colab_type": "code",
        "colab": {}
      },
      "source": [
        "data_url = 'https://github.com/bundickm/Study-Guides/blob/master/data/hearts.csv'"
      ],
      "execution_count": null,
      "outputs": []
    },
    {
      "cell_type": "code",
      "metadata": {
        "id": "Ei9YWRPv6-OU",
        "colab_type": "code",
        "colab": {}
      },
      "source": [
        ""
      ],
      "execution_count": null,
      "outputs": []
    },
    {
      "cell_type": "markdown",
      "metadata": {
        "id": "_bjhojqi7D7E",
        "colab_type": "text"
      },
      "source": [
        "What are some of the uses and limitations of AutoML and other similar tools?\n",
        "```\n",
        "Your Answer Here\n",
        "```"
      ]
    }
  ]
}